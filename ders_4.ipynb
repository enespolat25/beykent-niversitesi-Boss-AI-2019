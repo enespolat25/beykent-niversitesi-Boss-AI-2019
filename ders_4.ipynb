{
 "cells": [
  {
   "cell_type": "code",
   "execution_count": 1,
   "metadata": {},
   "outputs": [
    {
     "name": "stderr",
     "output_type": "stream",
     "text": [
      "Using TensorFlow backend.\n"
     ]
    }
   ],
   "source": [
    "import numpy as np\n",
    "import gym\n",
    "\n",
    "from keras.models import Sequential\n",
    "from keras.layers import Dense, Activation, Flatten\n",
    "from keras.optimizers import Adam\n",
    "\n",
    "from rl.agents.dqn import DQNAgent\n",
    "from rl.policy import EpsGreedyQPolicy\n",
    "from rl.memory import SequentialMemory"
   ]
  },
  {
   "cell_type": "code",
   "execution_count": 2,
   "metadata": {},
   "outputs": [],
   "source": [
    "ENV_NAME = 'CartPole-v0'\n",
    "\n",
    "# Get the environment and extract the number of actions available in the Cartpole problem\n",
    "env = gym.make(ENV_NAME)\n",
    "np.random.seed(123)\n",
    "env.seed(123)\n",
    "nb_actions = env.action_space.n"
   ]
  },
  {
   "cell_type": "code",
   "execution_count": 3,
   "metadata": {},
   "outputs": [
    {
     "name": "stdout",
     "output_type": "stream",
     "text": [
      "_________________________________________________________________\n",
      "Layer (type)                 Output Shape              Param #   \n",
      "=================================================================\n",
      "flatten_1 (Flatten)          (None, 4)                 0         \n",
      "_________________________________________________________________\n",
      "dense_1 (Dense)              (None, 16)                80        \n",
      "_________________________________________________________________\n",
      "activation_1 (Activation)    (None, 16)                0         \n",
      "_________________________________________________________________\n",
      "dense_2 (Dense)              (None, 2)                 34        \n",
      "_________________________________________________________________\n",
      "activation_2 (Activation)    (None, 2)                 0         \n",
      "=================================================================\n",
      "Total params: 114\n",
      "Trainable params: 114\n",
      "Non-trainable params: 0\n",
      "_________________________________________________________________\n",
      "None\n"
     ]
    }
   ],
   "source": [
    "model = Sequential()\n",
    "model.add(Flatten(input_shape=(1,) + env.observation_space.shape))\n",
    "model.add(Dense(16))\n",
    "model.add(Activation('relu'))\n",
    "model.add(Dense(nb_actions))\n",
    "model.add(Activation('linear'))\n",
    "print(model.summary())"
   ]
  },
  {
   "cell_type": "code",
   "execution_count": 4,
   "metadata": {},
   "outputs": [
    {
     "name": "stdout",
     "output_type": "stream",
     "text": [
      "Training for 5000 steps ...\n"
     ]
    },
    {
     "name": "stderr",
     "output_type": "stream",
     "text": [
      "C:\\Anaconda3\\envs\\tensorflow\\lib\\site-packages\\keras_rl-0.4.2-py3.6.egg\\rl\\memory.py:39: UserWarning: Not enough entries to sample without replacement. Consider increasing your warm-up phase to avoid oversampling!\n",
      "  warnings.warn('Not enough entries to sample without replacement. Consider increasing your warm-up phase to avoid oversampling!')\n"
     ]
    },
    {
     "name": "stdout",
     "output_type": "stream",
     "text": [
      "   79/5000: episode: 1, duration: 3.154s, episode steps: 79, steps per second: 25, episode reward: 79.000, mean reward: 1.000 [1.000, 1.000], mean action: 0.519 [0.000, 1.000], mean observation: 0.060 [-0.402, 0.722], loss: 0.427768, mean_absolute_error: 0.495637, mean_q: 0.053599\n",
      "  113/5000: episode: 2, duration: 0.945s, episode steps: 34, steps per second: 36, episode reward: 34.000, mean reward: 1.000 [1.000, 1.000], mean action: 0.529 [0.000, 1.000], mean observation: 0.151 [-0.159, 0.753], loss: 0.354449, mean_absolute_error: 0.448013, mean_q: 0.191813\n",
      "  163/5000: episode: 3, duration: 1.324s, episode steps: 50, steps per second: 38, episode reward: 50.000, mean reward: 1.000 [1.000, 1.000], mean action: 0.520 [0.000, 1.000], mean observation: 0.082 [-0.295, 0.778], loss: 0.318317, mean_absolute_error: 0.468537, mean_q: 0.318022\n",
      "  197/5000: episode: 4, duration: 0.699s, episode steps: 34, steps per second: 49, episode reward: 34.000, mean reward: 1.000 [1.000, 1.000], mean action: 0.529 [0.000, 1.000], mean observation: 0.081 [-0.228, 0.770], loss: 0.282550, mean_absolute_error: 0.507769, mean_q: 0.468054\n",
      "  261/5000: episode: 5, duration: 1.162s, episode steps: 64, steps per second: 55, episode reward: 64.000, mean reward: 1.000 [1.000, 1.000], mean action: 0.500 [0.000, 1.000], mean observation: 0.004 [-0.394, 0.861], loss: 0.228747, mean_absolute_error: 0.561051, mean_q: 0.678289\n",
      "  295/5000: episode: 6, duration: 0.596s, episode steps: 34, steps per second: 57, episode reward: 34.000, mean reward: 1.000 [1.000, 1.000], mean action: 0.500 [0.000, 1.000], mean observation: 0.093 [-0.207, 0.836], loss: 0.180530, mean_absolute_error: 0.642345, mean_q: 0.935593\n",
      "  332/5000: episode: 7, duration: 0.704s, episode steps: 37, steps per second: 53, episode reward: 37.000, mean reward: 1.000 [1.000, 1.000], mean action: 0.514 [0.000, 1.000], mean observation: 0.071 [-0.347, 0.907], loss: 0.142387, mean_absolute_error: 0.718938, mean_q: 1.156524\n",
      "  359/5000: episode: 8, duration: 0.485s, episode steps: 27, steps per second: 56, episode reward: 27.000, mean reward: 1.000 [1.000, 1.000], mean action: 0.519 [0.000, 1.000], mean observation: 0.085 [-0.394, 0.852], loss: 0.118445, mean_absolute_error: 0.805152, mean_q: 1.387903\n",
      "  381/5000: episode: 9, duration: 0.385s, episode steps: 22, steps per second: 57, episode reward: 22.000, mean reward: 1.000 [1.000, 1.000], mean action: 0.500 [0.000, 1.000], mean observation: 0.110 [-0.353, 0.912], loss: 0.098811, mean_absolute_error: 0.878124, mean_q: 1.569663\n",
      "  401/5000: episode: 10, duration: 0.340s, episode steps: 20, steps per second: 59, episode reward: 20.000, mean reward: 1.000 [1.000, 1.000], mean action: 0.500 [0.000, 1.000], mean observation: 0.082 [-0.413, 0.874], loss: 0.097630, mean_absolute_error: 0.956177, mean_q: 1.741953\n",
      "  423/5000: episode: 11, duration: 0.389s, episode steps: 22, steps per second: 57, episode reward: 22.000, mean reward: 1.000 [1.000, 1.000], mean action: 0.500 [0.000, 1.000], mean observation: 0.078 [-0.616, 0.942], loss: 0.092334, mean_absolute_error: 1.024727, mean_q: 1.918660\n",
      "  443/5000: episode: 12, duration: 0.362s, episode steps: 20, steps per second: 55, episode reward: 20.000, mean reward: 1.000 [1.000, 1.000], mean action: 0.450 [0.000, 1.000], mean observation: 0.087 [-0.558, 1.174], loss: 0.081234, mean_absolute_error: 1.092270, mean_q: 2.095782\n",
      "  464/5000: episode: 13, duration: 0.387s, episode steps: 21, steps per second: 54, episode reward: 21.000, mean reward: 1.000 [1.000, 1.000], mean action: 0.476 [0.000, 1.000], mean observation: 0.080 [-0.748, 1.348], loss: 0.078571, mean_absolute_error: 1.197501, mean_q: 2.300832\n",
      "  482/5000: episode: 14, duration: 0.315s, episode steps: 18, steps per second: 57, episode reward: 18.000, mean reward: 1.000 [1.000, 1.000], mean action: 0.444 [0.000, 1.000], mean observation: 0.085 [-0.582, 1.189], loss: 0.107289, mean_absolute_error: 1.288282, mean_q: 2.492365\n",
      "  496/5000: episode: 15, duration: 0.269s, episode steps: 14, steps per second: 52, episode reward: 14.000, mean reward: 1.000 [1.000, 1.000], mean action: 0.429 [0.000, 1.000], mean observation: 0.094 [-0.607, 1.237], loss: 0.096287, mean_absolute_error: 1.359859, mean_q: 2.626727\n",
      "  509/5000: episode: 16, duration: 0.233s, episode steps: 13, steps per second: 56, episode reward: 13.000, mean reward: 1.000 [1.000, 1.000], mean action: 0.385 [0.000, 1.000], mean observation: 0.106 [-0.775, 1.270], loss: 0.130349, mean_absolute_error: 1.416895, mean_q: 2.754979\n",
      "  524/5000: episode: 17, duration: 0.263s, episode steps: 15, steps per second: 57, episode reward: 15.000, mean reward: 1.000 [1.000, 1.000], mean action: 0.400 [0.000, 1.000], mean observation: 0.080 [-0.773, 1.382], loss: 0.135248, mean_absolute_error: 1.513511, mean_q: 2.927380\n",
      "  541/5000: episode: 18, duration: 0.299s, episode steps: 17, steps per second: 57, episode reward: 17.000, mean reward: 1.000 [1.000, 1.000], mean action: 0.412 [0.000, 1.000], mean observation: 0.079 [-0.801, 1.409], loss: 0.141129, mean_absolute_error: 1.566059, mean_q: 3.070630\n",
      "  554/5000: episode: 19, duration: 0.254s, episode steps: 13, steps per second: 51, episode reward: 13.000, mean reward: 1.000 [1.000, 1.000], mean action: 0.385 [0.000, 1.000], mean observation: 0.127 [-0.767, 1.433], loss: 0.173977, mean_absolute_error: 1.651666, mean_q: 3.194364\n",
      "  564/5000: episode: 20, duration: 0.177s, episode steps: 10, steps per second: 56, episode reward: 10.000, mean reward: 1.000 [1.000, 1.000], mean action: 0.300 [0.000, 1.000], mean observation: 0.127 [-0.977, 1.638], loss: 0.198120, mean_absolute_error: 1.688881, mean_q: 3.316858\n",
      "  573/5000: episode: 21, duration: 0.164s, episode steps: 9, steps per second: 55, episode reward: 9.000, mean reward: 1.000 [1.000, 1.000], mean action: 0.222 [0.000, 1.000], mean observation: 0.161 [-1.153, 1.885], loss: 0.272301, mean_absolute_error: 1.780988, mean_q: 3.437905\n",
      "  583/5000: episode: 22, duration: 0.197s, episode steps: 10, steps per second: 51, episode reward: 10.000, mean reward: 1.000 [1.000, 1.000], mean action: 0.200 [0.000, 1.000], mean observation: 0.143 [-1.383, 2.234], loss: 0.223351, mean_absolute_error: 1.839047, mean_q: 3.536265\n",
      "  591/5000: episode: 23, duration: 0.155s, episode steps: 8, steps per second: 52, episode reward: 8.000, mean reward: 1.000 [1.000, 1.000], mean action: 0.000 [0.000, 0.000], mean observation: 0.157 [-1.531, 2.553], loss: 0.155555, mean_absolute_error: 1.811795, mean_q: 3.601001\n",
      "  600/5000: episode: 24, duration: 0.175s, episode steps: 9, steps per second: 51, episode reward: 9.000, mean reward: 1.000 [1.000, 1.000], mean action: 0.000 [0.000, 0.000], mean observation: 0.158 [-1.746, 2.798], loss: 0.232840, mean_absolute_error: 1.910077, mean_q: 3.761181\n",
      "  610/5000: episode: 25, duration: 0.182s, episode steps: 10, steps per second: 55, episode reward: 10.000, mean reward: 1.000 [1.000, 1.000], mean action: 0.100 [0.000, 1.000], mean observation: 0.111 [-1.579, 2.454], loss: 0.290864, mean_absolute_error: 1.911259, mean_q: 3.772348\n",
      "  620/5000: episode: 26, duration: 0.195s, episode steps: 10, steps per second: 51, episode reward: 10.000, mean reward: 1.000 [1.000, 1.000], mean action: 0.200 [0.000, 1.000], mean observation: 0.114 [-1.356, 2.228], loss: 0.283756, mean_absolute_error: 1.987593, mean_q: 3.894986\n",
      "  631/5000: episode: 27, duration: 0.203s, episode steps: 11, steps per second: 54, episode reward: 11.000, mean reward: 1.000 [1.000, 1.000], mean action: 0.182 [0.000, 1.000], mean observation: 0.109 [-1.382, 2.192], loss: 0.388674, mean_absolute_error: 2.073107, mean_q: 3.975450\n",
      "  640/5000: episode: 28, duration: 0.159s, episode steps: 9, steps per second: 56, episode reward: 9.000, mean reward: 1.000 [1.000, 1.000], mean action: 0.111 [0.000, 1.000], mean observation: 0.127 [-1.421, 2.295], loss: 0.291739, mean_absolute_error: 2.075659, mean_q: 4.043460\n",
      "  650/5000: episode: 29, duration: 0.184s, episode steps: 10, steps per second: 54, episode reward: 10.000, mean reward: 1.000 [1.000, 1.000], mean action: 0.000 [0.000, 0.000], mean observation: 0.175 [-1.910, 3.113], loss: 0.356326, mean_absolute_error: 2.163297, mean_q: 4.217769\n",
      "  660/5000: episode: 30, duration: 0.175s, episode steps: 10, steps per second: 57, episode reward: 10.000, mean reward: 1.000 [1.000, 1.000], mean action: 0.100 [0.000, 1.000], mean observation: 0.132 [-1.523, 2.533], loss: 0.505120, mean_absolute_error: 2.256584, mean_q: 4.372046\n",
      "  675/5000: episode: 31, duration: 0.266s, episode steps: 15, steps per second: 56, episode reward: 15.000, mean reward: 1.000 [1.000, 1.000], mean action: 0.267 [0.000, 1.000], mean observation: 0.068 [-1.401, 2.156], loss: 0.546654, mean_absolute_error: 2.302447, mean_q: 4.400527\n",
      "  684/5000: episode: 32, duration: 0.152s, episode steps: 9, steps per second: 59, episode reward: 9.000, mean reward: 1.000 [1.000, 1.000], mean action: 0.111 [0.000, 1.000], mean observation: 0.124 [-1.418, 2.297], loss: 0.428291, mean_absolute_error: 2.341535, mean_q: 4.428277\n",
      "  695/5000: episode: 33, duration: 0.215s, episode steps: 11, steps per second: 51, episode reward: 11.000, mean reward: 1.000 [1.000, 1.000], mean action: 0.273 [0.000, 1.000], mean observation: 0.126 [-0.962, 1.706], loss: 0.587410, mean_absolute_error: 2.435032, mean_q: 4.544558\n",
      "  705/5000: episode: 34, duration: 0.190s, episode steps: 10, steps per second: 53, episode reward: 10.000, mean reward: 1.000 [1.000, 1.000], mean action: 0.300 [0.000, 1.000], mean observation: 0.129 [-0.933, 1.664], loss: 0.577638, mean_absolute_error: 2.430636, mean_q: 4.598931\n",
      "  714/5000: episode: 35, duration: 0.156s, episode steps: 9, steps per second: 58, episode reward: 9.000, mean reward: 1.000 [1.000, 1.000], mean action: 0.222 [0.000, 1.000], mean observation: 0.129 [-1.008, 1.750], loss: 0.669129, mean_absolute_error: 2.524570, mean_q: 4.698866\n",
      "  728/5000: episode: 36, duration: 0.272s, episode steps: 14, steps per second: 51, episode reward: 14.000, mean reward: 1.000 [1.000, 1.000], mean action: 0.357 [0.000, 1.000], mean observation: 0.092 [-0.815, 1.482], loss: 0.490496, mean_absolute_error: 2.478357, mean_q: 4.700562\n",
      "  741/5000: episode: 37, duration: 0.233s, episode steps: 13, steps per second: 56, episode reward: 13.000, mean reward: 1.000 [1.000, 1.000], mean action: 0.308 [0.000, 1.000], mean observation: 0.108 [-0.969, 1.693], loss: 0.484203, mean_absolute_error: 2.512452, mean_q: 4.872394\n",
      "  750/5000: episode: 38, duration: 0.158s, episode steps: 9, steps per second: 57, episode reward: 9.000, mean reward: 1.000 [1.000, 1.000], mean action: 0.111 [0.000, 1.000], mean observation: 0.139 [-1.354, 2.293], loss: 0.804511, mean_absolute_error: 2.648441, mean_q: 5.048769\n",
      "  766/5000: episode: 39, duration: 0.294s, episode steps: 16, steps per second: 54, episode reward: 16.000, mean reward: 1.000 [1.000, 1.000], mean action: 0.312 [0.000, 1.000], mean observation: 0.074 [-1.180, 1.916], loss: 0.671179, mean_absolute_error: 2.715443, mean_q: 5.078442\n",
      "  776/5000: episode: 40, duration: 0.194s, episode steps: 10, steps per second: 52, episode reward: 10.000, mean reward: 1.000 [1.000, 1.000], mean action: 0.300 [0.000, 1.000], mean observation: 0.118 [-0.995, 1.652], loss: 0.729404, mean_absolute_error: 2.738208, mean_q: 5.151936\n",
      "  784/5000: episode: 41, duration: 0.135s, episode steps: 8, steps per second: 59, episode reward: 8.000, mean reward: 1.000 [1.000, 1.000], mean action: 0.250 [0.000, 1.000], mean observation: 0.151 [-1.172, 1.904], loss: 0.732121, mean_absolute_error: 2.744837, mean_q: 5.195529\n",
      "  794/5000: episode: 42, duration: 0.169s, episode steps: 10, steps per second: 59, episode reward: 10.000, mean reward: 1.000 [1.000, 1.000], mean action: 0.300 [0.000, 1.000], mean observation: 0.108 [-1.030, 1.642], loss: 0.699927, mean_absolute_error: 2.771399, mean_q: 5.250241\n",
      "  803/5000: episode: 43, duration: 0.168s, episode steps: 9, steps per second: 54, episode reward: 9.000, mean reward: 1.000 [1.000, 1.000], mean action: 0.333 [0.000, 1.000], mean observation: 0.155 [-0.944, 1.666], loss: 0.586541, mean_absolute_error: 2.804907, mean_q: 5.336932\n",
      "  815/5000: episode: 44, duration: 0.227s, episode steps: 12, steps per second: 53, episode reward: 12.000, mean reward: 1.000 [1.000, 1.000], mean action: 0.333 [0.000, 1.000], mean observation: 0.127 [-0.944, 1.648], loss: 0.701845, mean_absolute_error: 2.880726, mean_q: 5.410774\n",
      "  827/5000: episode: 45, duration: 0.207s, episode steps: 12, steps per second: 58, episode reward: 12.000, mean reward: 1.000 [1.000, 1.000], mean action: 0.333 [0.000, 1.000], mean observation: 0.128 [-0.945, 1.720], loss: 0.687936, mean_absolute_error: 2.931276, mean_q: 5.507244\n",
      "  837/5000: episode: 46, duration: 0.177s, episode steps: 10, steps per second: 57, episode reward: 10.000, mean reward: 1.000 [1.000, 1.000], mean action: 0.300 [0.000, 1.000], mean observation: 0.145 [-0.756, 1.486], loss: 1.063709, mean_absolute_error: 3.011724, mean_q: 5.611185\n",
      "  847/5000: episode: 47, duration: 0.192s, episode steps: 10, steps per second: 52, episode reward: 10.000, mean reward: 1.000 [1.000, 1.000], mean action: 0.300 [0.000, 1.000], mean observation: 0.138 [-0.942, 1.619], loss: 0.708199, mean_absolute_error: 3.005885, mean_q: 5.623449\n",
      "  857/5000: episode: 48, duration: 0.190s, episode steps: 10, steps per second: 53, episode reward: 10.000, mean reward: 1.000 [1.000, 1.000], mean action: 0.300 [0.000, 1.000], mean observation: 0.098 [-1.015, 1.624], loss: 0.937864, mean_absolute_error: 3.058381, mean_q: 5.724940\n",
      "  867/5000: episode: 49, duration: 0.193s, episode steps: 10, steps per second: 52, episode reward: 10.000, mean reward: 1.000 [1.000, 1.000], mean action: 0.300 [0.000, 1.000], mean observation: 0.116 [-0.989, 1.628], loss: 0.846223, mean_absolute_error: 3.070219, mean_q: 5.756210\n",
      "  878/5000: episode: 50, duration: 0.209s, episode steps: 11, steps per second: 53, episode reward: 11.000, mean reward: 1.000 [1.000, 1.000], mean action: 0.273 [0.000, 1.000], mean observation: 0.101 [-1.197, 1.872], loss: 0.837685, mean_absolute_error: 3.096603, mean_q: 5.825599\n",
      "  890/5000: episode: 51, duration: 0.212s, episode steps: 12, steps per second: 57, episode reward: 12.000, mean reward: 1.000 [1.000, 1.000], mean action: 0.250 [0.000, 1.000], mean observation: 0.113 [-1.145, 1.989], loss: 1.042178, mean_absolute_error: 3.199874, mean_q: 5.926082\n",
      "  903/5000: episode: 52, duration: 0.260s, episode steps: 13, steps per second: 50, episode reward: 13.000, mean reward: 1.000 [1.000, 1.000], mean action: 0.231 [0.000, 1.000], mean observation: 0.104 [-1.407, 2.257], loss: 0.749358, mean_absolute_error: 3.166560, mean_q: 6.014768\n",
      "  915/5000: episode: 53, duration: 0.223s, episode steps: 12, steps per second: 54, episode reward: 12.000, mean reward: 1.000 [1.000, 1.000], mean action: 0.333 [0.000, 1.000], mean observation: 0.103 [-1.211, 1.724], loss: 0.738506, mean_absolute_error: 3.207525, mean_q: 6.075686\n",
      "  926/5000: episode: 54, duration: 0.195s, episode steps: 11, steps per second: 56, episode reward: 11.000, mean reward: 1.000 [1.000, 1.000], mean action: 0.273 [0.000, 1.000], mean observation: 0.116 [-0.990, 1.713], loss: 0.748624, mean_absolute_error: 3.229843, mean_q: 6.166489\n",
      "  936/5000: episode: 55, duration: 0.180s, episode steps: 10, steps per second: 55, episode reward: 10.000, mean reward: 1.000 [1.000, 1.000], mean action: 0.300 [0.000, 1.000], mean observation: 0.119 [-0.963, 1.645], loss: 1.161913, mean_absolute_error: 3.408728, mean_q: 6.288142\n",
      "  953/5000: episode: 56, duration: 0.300s, episode steps: 17, steps per second: 57, episode reward: 17.000, mean reward: 1.000 [1.000, 1.000], mean action: 0.412 [0.000, 1.000], mean observation: 0.061 [-0.819, 1.395], loss: 0.764759, mean_absolute_error: 3.367897, mean_q: 6.302707\n",
      "  964/5000: episode: 57, duration: 0.217s, episode steps: 11, steps per second: 51, episode reward: 11.000, mean reward: 1.000 [1.000, 1.000], mean action: 0.364 [0.000, 1.000], mean observation: 0.106 [-0.803, 1.384], loss: 0.962733, mean_absolute_error: 3.421128, mean_q: 6.391216\n",
      "  977/5000: episode: 58, duration: 0.224s, episode steps: 13, steps per second: 58, episode reward: 13.000, mean reward: 1.000 [1.000, 1.000], mean action: 0.385 [0.000, 1.000], mean observation: 0.108 [-0.762, 1.436], loss: 0.920181, mean_absolute_error: 3.461902, mean_q: 6.437526\n",
      "  987/5000: episode: 59, duration: 0.171s, episode steps: 10, steps per second: 59, episode reward: 10.000, mean reward: 1.000 [1.000, 1.000], mean action: 0.300 [0.000, 1.000], mean observation: 0.116 [-0.830, 1.512], loss: 0.824957, mean_absolute_error: 3.466393, mean_q: 6.478941\n",
      " 1000/5000: episode: 60, duration: 0.242s, episode steps: 13, steps per second: 54, episode reward: 13.000, mean reward: 1.000 [1.000, 1.000], mean action: 0.385 [0.000, 1.000], mean observation: 0.103 [-0.832, 1.415], loss: 0.955700, mean_absolute_error: 3.527441, mean_q: 6.620173\n",
      " 1012/5000: episode: 61, duration: 0.208s, episode steps: 12, steps per second: 58, episode reward: 12.000, mean reward: 1.000 [1.000, 1.000], mean action: 0.333 [0.000, 1.000], mean observation: 0.100 [-0.997, 1.679], loss: 0.869127, mean_absolute_error: 3.538012, mean_q: 6.636776\n",
      " 1024/5000: episode: 62, duration: 0.210s, episode steps: 12, steps per second: 57, episode reward: 12.000, mean reward: 1.000 [1.000, 1.000], mean action: 0.250 [0.000, 1.000], mean observation: 0.109 [-1.174, 2.000], loss: 1.051543, mean_absolute_error: 3.608678, mean_q: 6.708646\n",
      " 1037/5000: episode: 63, duration: 0.217s, episode steps: 13, steps per second: 60, episode reward: 13.000, mean reward: 1.000 [1.000, 1.000], mean action: 0.308 [0.000, 1.000], mean observation: 0.099 [-1.128, 1.662], loss: 0.975598, mean_absolute_error: 3.604326, mean_q: 6.735771\n",
      " 1050/5000: episode: 64, duration: 0.224s, episode steps: 13, steps per second: 58, episode reward: 13.000, mean reward: 1.000 [1.000, 1.000], mean action: 0.385 [0.000, 1.000], mean observation: 0.107 [-0.935, 1.488], loss: 1.272724, mean_absolute_error: 3.700305, mean_q: 6.797328\n",
      " 1065/5000: episode: 65, duration: 0.269s, episode steps: 15, steps per second: 56, episode reward: 15.000, mean reward: 1.000 [1.000, 1.000], mean action: 0.400 [0.000, 1.000], mean observation: 0.079 [-0.805, 1.406], loss: 1.042330, mean_absolute_error: 3.708013, mean_q: 6.843106\n",
      " 1079/5000: episode: 66, duration: 0.247s, episode steps: 14, steps per second: 57, episode reward: 14.000, mean reward: 1.000 [1.000, 1.000], mean action: 0.357 [0.000, 1.000], mean observation: 0.090 [-0.962, 1.554], loss: 0.965204, mean_absolute_error: 3.717131, mean_q: 6.913271\n",
      " 1094/5000: episode: 67, duration: 0.291s, episode steps: 15, steps per second: 52, episode reward: 15.000, mean reward: 1.000 [1.000, 1.000], mean action: 0.400 [0.000, 1.000], mean observation: 0.088 [-0.795, 1.410], loss: 1.387814, mean_absolute_error: 3.826154, mean_q: 6.999881\n",
      " 1105/5000: episode: 68, duration: 0.199s, episode steps: 11, steps per second: 55, episode reward: 11.000, mean reward: 1.000 [1.000, 1.000], mean action: 0.364 [0.000, 1.000], mean observation: 0.122 [-0.769, 1.425], loss: 1.291991, mean_absolute_error: 3.830569, mean_q: 7.052777\n",
      " 1116/5000: episode: 69, duration: 0.217s, episode steps: 11, steps per second: 51, episode reward: 11.000, mean reward: 1.000 [1.000, 1.000], mean action: 0.273 [0.000, 1.000], mean observation: 0.104 [-1.163, 1.881], loss: 1.242203, mean_absolute_error: 3.856309, mean_q: 7.036984\n",
      " 1129/5000: episode: 70, duration: 0.250s, episode steps: 13, steps per second: 52, episode reward: 13.000, mean reward: 1.000 [1.000, 1.000], mean action: 0.385 [0.000, 1.000], mean observation: 0.123 [-0.962, 1.504], loss: 1.121711, mean_absolute_error: 3.812815, mean_q: 7.019455\n",
      " 1139/5000: episode: 71, duration: 0.206s, episode steps: 10, steps per second: 49, episode reward: 10.000, mean reward: 1.000 [1.000, 1.000], mean action: 0.400 [0.000, 1.000], mean observation: 0.114 [-0.832, 1.355], loss: 1.514475, mean_absolute_error: 3.936472, mean_q: 7.173584\n",
      " 1149/5000: episode: 72, duration: 0.164s, episode steps: 10, steps per second: 61, episode reward: 10.000, mean reward: 1.000 [1.000, 1.000], mean action: 0.300 [0.000, 1.000], mean observation: 0.134 [-0.762, 1.511], loss: 0.999855, mean_absolute_error: 3.879998, mean_q: 7.193773\n",
      " 1161/5000: episode: 73, duration: 0.199s, episode steps: 12, steps per second: 60, episode reward: 12.000, mean reward: 1.000 [1.000, 1.000], mean action: 0.333 [0.000, 1.000], mean observation: 0.086 [-1.022, 1.520], loss: 1.097627, mean_absolute_error: 3.937270, mean_q: 7.269943\n",
      " 1172/5000: episode: 74, duration: 0.195s, episode steps: 11, steps per second: 56, episode reward: 11.000, mean reward: 1.000 [1.000, 1.000], mean action: 0.364 [0.000, 1.000], mean observation: 0.130 [-0.749, 1.293], loss: 0.947162, mean_absolute_error: 3.902025, mean_q: 7.314261\n",
      " 1186/5000: episode: 75, duration: 0.264s, episode steps: 14, steps per second: 53, episode reward: 14.000, mean reward: 1.000 [1.000, 1.000], mean action: 0.429 [0.000, 1.000], mean observation: 0.106 [-0.579, 1.207], loss: 0.753399, mean_absolute_error: 3.941046, mean_q: 7.499803\n",
      " 1200/5000: episode: 76, duration: 0.256s, episode steps: 14, steps per second: 55, episode reward: 14.000, mean reward: 1.000 [1.000, 1.000], mean action: 0.429 [0.000, 1.000], mean observation: 0.121 [-0.555, 1.189], loss: 1.383776, mean_absolute_error: 4.072953, mean_q: 7.524914\n",
      " 1219/5000: episode: 77, duration: 0.322s, episode steps: 19, steps per second: 59, episode reward: 19.000, mean reward: 1.000 [1.000, 1.000], mean action: 0.421 [0.000, 1.000], mean observation: 0.072 [-0.769, 1.440], loss: 1.170737, mean_absolute_error: 4.058835, mean_q: 7.466204\n",
      " 1231/5000: episode: 78, duration: 0.217s, episode steps: 12, steps per second: 55, episode reward: 12.000, mean reward: 1.000 [1.000, 1.000], mean action: 0.417 [0.000, 1.000], mean observation: 0.123 [-0.557, 1.194], loss: 1.074707, mean_absolute_error: 4.083088, mean_q: 7.616541\n",
      " 1247/5000: episode: 79, duration: 0.283s, episode steps: 16, steps per second: 56, episode reward: 16.000, mean reward: 1.000 [1.000, 1.000], mean action: 0.438 [0.000, 1.000], mean observation: 0.103 [-0.558, 1.069], loss: 1.121021, mean_absolute_error: 4.111564, mean_q: 7.651619\n",
      " 1263/5000: episode: 80, duration: 0.288s, episode steps: 16, steps per second: 56, episode reward: 16.000, mean reward: 1.000 [1.000, 1.000], mean action: 0.438 [0.000, 1.000], mean observation: 0.092 [-0.553, 1.111], loss: 1.364036, mean_absolute_error: 4.211803, mean_q: 7.764305\n",
      " 1283/5000: episode: 81, duration: 0.339s, episode steps: 20, steps per second: 59, episode reward: 20.000, mean reward: 1.000 [1.000, 1.000], mean action: 0.450 [0.000, 1.000], mean observation: 0.098 [-0.400, 1.140], loss: 0.986966, mean_absolute_error: 4.162223, mean_q: 7.709821\n",
      " 1307/5000: episode: 82, duration: 0.431s, episode steps: 24, steps per second: 56, episode reward: 24.000, mean reward: 1.000 [1.000, 1.000], mean action: 0.500 [0.000, 1.000], mean observation: 0.068 [-0.542, 0.975], loss: 1.132937, mean_absolute_error: 4.241137, mean_q: 7.855114\n",
      " 1333/5000: episode: 83, duration: 0.461s, episode steps: 26, steps per second: 56, episode reward: 26.000, mean reward: 1.000 [1.000, 1.000], mean action: 0.500 [0.000, 1.000], mean observation: 0.080 [-0.417, 0.935], loss: 1.327061, mean_absolute_error: 4.343265, mean_q: 8.037922\n",
      " 1358/5000: episode: 84, duration: 0.449s, episode steps: 25, steps per second: 56, episode reward: 25.000, mean reward: 1.000 [1.000, 1.000], mean action: 0.520 [0.000, 1.000], mean observation: 0.088 [-0.543, 0.900], loss: 0.992311, mean_absolute_error: 4.347865, mean_q: 8.151897\n",
      " 1385/5000: episode: 85, duration: 0.501s, episode steps: 27, steps per second: 54, episode reward: 27.000, mean reward: 1.000 [1.000, 1.000], mean action: 0.519 [0.000, 1.000], mean observation: 0.099 [-0.403, 0.758], loss: 1.258842, mean_absolute_error: 4.457196, mean_q: 8.313629\n",
      " 1417/5000: episode: 86, duration: 0.561s, episode steps: 32, steps per second: 57, episode reward: 32.000, mean reward: 1.000 [1.000, 1.000], mean action: 0.500 [0.000, 1.000], mean observation: 0.085 [-0.387, 0.846], loss: 1.393248, mean_absolute_error: 4.520061, mean_q: 8.312595\n",
      " 1459/5000: episode: 87, duration: 0.745s, episode steps: 42, steps per second: 56, episode reward: 42.000, mean reward: 1.000 [1.000, 1.000], mean action: 0.500 [0.000, 1.000], mean observation: 0.055 [-0.551, 1.144], loss: 1.246172, mean_absolute_error: 4.602334, mean_q: 8.584867\n",
      " 1493/5000: episode: 88, duration: 0.639s, episode steps: 34, steps per second: 53, episode reward: 34.000, mean reward: 1.000 [1.000, 1.000], mean action: 0.500 [0.000, 1.000], mean observation: 0.065 [-0.424, 0.842], loss: 1.144307, mean_absolute_error: 4.669907, mean_q: 8.781578\n",
      " 1541/5000: episode: 89, duration: 0.856s, episode steps: 48, steps per second: 56, episode reward: 48.000, mean reward: 1.000 [1.000, 1.000], mean action: 0.521 [0.000, 1.000], mean observation: 0.086 [-0.225, 0.755], loss: 1.230808, mean_absolute_error: 4.792898, mean_q: 8.965634\n",
      " 1598/5000: episode: 90, duration: 0.997s, episode steps: 57, steps per second: 57, episode reward: 57.000, mean reward: 1.000 [1.000, 1.000], mean action: 0.526 [0.000, 1.000], mean observation: 0.078 [-0.355, 0.676], loss: 1.221098, mean_absolute_error: 4.898764, mean_q: 9.260064\n",
      " 1648/5000: episode: 91, duration: 0.902s, episode steps: 50, steps per second: 55, episode reward: 50.000, mean reward: 1.000 [1.000, 1.000], mean action: 0.460 [0.000, 1.000], mean observation: -0.138 [-0.916, 0.339], loss: 1.330114, mean_absolute_error: 5.070218, mean_q: 9.549267\n",
      " 1705/5000: episode: 92, duration: 1.003s, episode steps: 57, steps per second: 57, episode reward: 57.000, mean reward: 1.000 [1.000, 1.000], mean action: 0.509 [0.000, 1.000], mean observation: 0.069 [-0.412, 0.799], loss: 1.540012, mean_absolute_error: 5.209713, mean_q: 9.738218\n",
      " 1753/5000: episode: 93, duration: 0.820s, episode steps: 48, steps per second: 59, episode reward: 48.000, mean reward: 1.000 [1.000, 1.000], mean action: 0.500 [0.000, 1.000], mean observation: -0.075 [-0.964, 0.404], loss: 1.413962, mean_absolute_error: 5.303638, mean_q: 9.990873\n",
      " 1781/5000: episode: 94, duration: 0.485s, episode steps: 28, steps per second: 58, episode reward: 28.000, mean reward: 1.000 [1.000, 1.000], mean action: 0.500 [0.000, 1.000], mean observation: -0.090 [-0.939, 0.202], loss: 1.499520, mean_absolute_error: 5.389520, mean_q: 10.209854\n",
      " 1823/5000: episode: 95, duration: 0.729s, episode steps: 42, steps per second: 58, episode reward: 42.000, mean reward: 1.000 [1.000, 1.000], mean action: 0.524 [0.000, 1.000], mean observation: 0.124 [-0.402, 0.771], loss: 1.543593, mean_absolute_error: 5.484306, mean_q: 10.355907\n",
      " 1854/5000: episode: 96, duration: 0.527s, episode steps: 31, steps per second: 59, episode reward: 31.000, mean reward: 1.000 [1.000, 1.000], mean action: 0.516 [0.000, 1.000], mean observation: -0.064 [-1.012, 0.273], loss: 1.654732, mean_absolute_error: 5.554964, mean_q: 10.460267\n",
      " 1868/5000: episode: 97, duration: 0.263s, episode steps: 14, steps per second: 53, episode reward: 14.000, mean reward: 1.000 [1.000, 1.000], mean action: 0.500 [0.000, 1.000], mean observation: -0.110 [-0.935, 0.573], loss: 1.459474, mean_absolute_error: 5.641849, mean_q: 10.780166\n",
      " 1897/5000: episode: 98, duration: 0.556s, episode steps: 29, steps per second: 52, episode reward: 29.000, mean reward: 1.000 [1.000, 1.000], mean action: 0.517 [0.000, 1.000], mean observation: -0.051 [-1.039, 0.440], loss: 1.602437, mean_absolute_error: 5.762933, mean_q: 11.009527\n",
      " 1920/5000: episode: 99, duration: 0.429s, episode steps: 23, steps per second: 54, episode reward: 23.000, mean reward: 1.000 [1.000, 1.000], mean action: 0.522 [0.000, 1.000], mean observation: -0.077 [-1.044, 0.575], loss: 1.797462, mean_absolute_error: 5.818094, mean_q: 11.073119\n",
      " 1937/5000: episode: 100, duration: 0.302s, episode steps: 17, steps per second: 56, episode reward: 17.000, mean reward: 1.000 [1.000, 1.000], mean action: 0.529 [0.000, 1.000], mean observation: -0.125 [-1.122, 0.553], loss: 1.906029, mean_absolute_error: 5.888154, mean_q: 11.167733\n",
      " 1954/5000: episode: 101, duration: 0.312s, episode steps: 17, steps per second: 54, episode reward: 17.000, mean reward: 1.000 [1.000, 1.000], mean action: 0.529 [0.000, 1.000], mean observation: -0.110 [-1.070, 0.418], loss: 1.292882, mean_absolute_error: 5.895898, mean_q: 11.336234\n",
      " 1969/5000: episode: 102, duration: 0.270s, episode steps: 15, steps per second: 56, episode reward: 15.000, mean reward: 1.000 [1.000, 1.000], mean action: 0.600 [0.000, 1.000], mean observation: -0.106 [-1.377, 0.595], loss: 1.909540, mean_absolute_error: 5.994861, mean_q: 11.341509\n",
      " 1984/5000: episode: 103, duration: 0.271s, episode steps: 15, steps per second: 55, episode reward: 15.000, mean reward: 1.000 [1.000, 1.000], mean action: 0.600 [0.000, 1.000], mean observation: -0.094 [-1.355, 0.613], loss: 1.680217, mean_absolute_error: 6.014549, mean_q: 11.439562\n",
      " 2005/5000: episode: 104, duration: 0.357s, episode steps: 21, steps per second: 59, episode reward: 21.000, mean reward: 1.000 [1.000, 1.000], mean action: 0.619 [0.000, 1.000], mean observation: -0.076 [-1.831, 0.992], loss: 1.846634, mean_absolute_error: 6.090418, mean_q: 11.593666\n",
      " 2017/5000: episode: 105, duration: 0.220s, episode steps: 12, steps per second: 55, episode reward: 12.000, mean reward: 1.000 [1.000, 1.000], mean action: 0.750 [0.000, 1.000], mean observation: -0.125 [-2.107, 1.167], loss: 1.956398, mean_absolute_error: 6.057293, mean_q: 11.549409\n",
      " 2032/5000: episode: 106, duration: 0.259s, episode steps: 15, steps per second: 58, episode reward: 15.000, mean reward: 1.000 [1.000, 1.000], mean action: 0.600 [0.000, 1.000], mean observation: -0.100 [-1.504, 0.787], loss: 2.422709, mean_absolute_error: 6.217837, mean_q: 11.742812\n",
      " 2045/5000: episode: 107, duration: 0.238s, episode steps: 13, steps per second: 55, episode reward: 13.000, mean reward: 1.000 [1.000, 1.000], mean action: 0.615 [0.000, 1.000], mean observation: -0.090 [-1.239, 0.798], loss: 2.224434, mean_absolute_error: 6.213564, mean_q: 11.655959\n",
      " 2060/5000: episode: 108, duration: 0.265s, episode steps: 15, steps per second: 57, episode reward: 15.000, mean reward: 1.000 [1.000, 1.000], mean action: 0.600 [0.000, 1.000], mean observation: -0.075 [-1.286, 0.647], loss: 1.996408, mean_absolute_error: 6.282020, mean_q: 11.864866\n",
      " 2078/5000: episode: 109, duration: 0.313s, episode steps: 18, steps per second: 58, episode reward: 18.000, mean reward: 1.000 [1.000, 1.000], mean action: 0.667 [0.000, 1.000], mean observation: -0.068 [-1.996, 1.216], loss: 1.595193, mean_absolute_error: 6.328061, mean_q: 12.107385\n",
      " 2091/5000: episode: 110, duration: 0.235s, episode steps: 13, steps per second: 55, episode reward: 13.000, mean reward: 1.000 [1.000, 1.000], mean action: 0.769 [0.000, 1.000], mean observation: -0.125 [-2.330, 1.378], loss: 2.700189, mean_absolute_error: 6.446453, mean_q: 12.289815\n",
      " 2102/5000: episode: 111, duration: 0.196s, episode steps: 11, steps per second: 56, episode reward: 11.000, mean reward: 1.000 [1.000, 1.000], mean action: 0.818 [0.000, 1.000], mean observation: -0.126 [-2.261, 1.363], loss: 1.794344, mean_absolute_error: 6.359976, mean_q: 12.224949\n",
      " 2112/5000: episode: 112, duration: 0.182s, episode steps: 10, steps per second: 55, episode reward: 10.000, mean reward: 1.000 [1.000, 1.000], mean action: 0.900 [0.000, 1.000], mean observation: -0.132 [-2.598, 1.589], loss: 2.411532, mean_absolute_error: 6.532103, mean_q: 12.353205\n",
      " 2125/5000: episode: 113, duration: 0.250s, episode steps: 13, steps per second: 52, episode reward: 13.000, mean reward: 1.000 [1.000, 1.000], mean action: 0.846 [0.000, 1.000], mean observation: -0.085 [-2.789, 1.786], loss: 1.532479, mean_absolute_error: 6.428195, mean_q: 12.328422\n",
      " 2137/5000: episode: 114, duration: 0.217s, episode steps: 12, steps per second: 55, episode reward: 12.000, mean reward: 1.000 [1.000, 1.000], mean action: 0.917 [0.000, 1.000], mean observation: -0.144 [-3.070, 1.921], loss: 1.537188, mean_absolute_error: 6.448141, mean_q: 12.397182\n",
      " 2149/5000: episode: 115, duration: 0.220s, episode steps: 12, steps per second: 55, episode reward: 12.000, mean reward: 1.000 [1.000, 1.000], mean action: 0.833 [0.000, 1.000], mean observation: -0.121 [-2.499, 1.531], loss: 1.591618, mean_absolute_error: 6.587660, mean_q: 12.771722\n",
      " 2161/5000: episode: 116, duration: 0.204s, episode steps: 12, steps per second: 59, episode reward: 12.000, mean reward: 1.000 [1.000, 1.000], mean action: 0.833 [0.000, 1.000], mean observation: -0.109 [-2.491, 1.538], loss: 1.843408, mean_absolute_error: 6.574150, mean_q: 12.748276\n",
      " 2169/5000: episode: 117, duration: 0.137s, episode steps: 8, steps per second: 58, episode reward: 8.000, mean reward: 1.000 [1.000, 1.000], mean action: 1.000 [1.000, 1.000], mean observation: -0.152 [-2.586, 1.577], loss: 2.087850, mean_absolute_error: 6.528680, mean_q: 12.552005\n",
      " 2177/5000: episode: 118, duration: 0.142s, episode steps: 8, steps per second: 56, episode reward: 8.000, mean reward: 1.000 [1.000, 1.000], mean action: 1.000 [1.000, 1.000], mean observation: -0.148 [-2.520, 1.541], loss: 2.081474, mean_absolute_error: 6.604643, mean_q: 12.803019\n",
      " 2186/5000: episode: 119, duration: 0.155s, episode steps: 9, steps per second: 58, episode reward: 9.000, mean reward: 1.000 [1.000, 1.000], mean action: 0.889 [0.000, 1.000], mean observation: -0.150 [-2.329, 1.385], loss: 1.411997, mean_absolute_error: 6.613953, mean_q: 12.845019\n",
      " 2196/5000: episode: 120, duration: 0.192s, episode steps: 10, steps per second: 52, episode reward: 10.000, mean reward: 1.000 [1.000, 1.000], mean action: 0.700 [0.000, 1.000], mean observation: -0.125 [-1.521, 0.838], loss: 2.870616, mean_absolute_error: 6.691193, mean_q: 12.760292\n",
      " 2209/5000: episode: 121, duration: 0.229s, episode steps: 13, steps per second: 57, episode reward: 13.000, mean reward: 1.000 [1.000, 1.000], mean action: 0.615 [0.000, 1.000], mean observation: -0.131 [-1.281, 0.746], loss: 2.592069, mean_absolute_error: 6.839337, mean_q: 12.870164\n",
      " 2240/5000: episode: 122, duration: 0.529s, episode steps: 31, steps per second: 59, episode reward: 31.000, mean reward: 1.000 [1.000, 1.000], mean action: 0.516 [0.000, 1.000], mean observation: -0.061 [-1.002, 0.378], loss: 2.914301, mean_absolute_error: 6.851773, mean_q: 12.835142\n",
      " 2263/5000: episode: 123, duration: 0.420s, episode steps: 23, steps per second: 55, episode reward: 23.000, mean reward: 1.000 [1.000, 1.000], mean action: 0.522 [0.000, 1.000], mean observation: -0.118 [-0.993, 0.187], loss: 2.496118, mean_absolute_error: 6.890495, mean_q: 12.933398\n",
      " 2302/5000: episode: 124, duration: 0.669s, episode steps: 39, steps per second: 58, episode reward: 39.000, mean reward: 1.000 [1.000, 1.000], mean action: 0.513 [0.000, 1.000], mean observation: 0.100 [-0.252, 0.923], loss: 2.840222, mean_absolute_error: 6.950709, mean_q: 13.111918\n",
      " 2326/5000: episode: 125, duration: 0.436s, episode steps: 24, steps per second: 55, episode reward: 24.000, mean reward: 1.000 [1.000, 1.000], mean action: 0.542 [0.000, 1.000], mean observation: -0.066 [-1.282, 0.598], loss: 2.570176, mean_absolute_error: 7.025252, mean_q: 13.254542\n",
      " 2341/5000: episode: 126, duration: 0.281s, episode steps: 15, steps per second: 53, episode reward: 15.000, mean reward: 1.000 [1.000, 1.000], mean action: 0.533 [0.000, 1.000], mean observation: -0.117 [-0.953, 0.615], loss: 3.365021, mean_absolute_error: 7.148132, mean_q: 13.496757\n",
      " 2362/5000: episode: 127, duration: 0.370s, episode steps: 21, steps per second: 57, episode reward: 21.000, mean reward: 1.000 [1.000, 1.000], mean action: 0.524 [0.000, 1.000], mean observation: -0.095 [-1.022, 0.426], loss: 2.594540, mean_absolute_error: 7.088927, mean_q: 13.473061\n",
      " 2392/5000: episode: 128, duration: 0.558s, episode steps: 30, steps per second: 54, episode reward: 30.000, mean reward: 1.000 [1.000, 1.000], mean action: 0.500 [0.000, 1.000], mean observation: -0.057 [-0.926, 0.439], loss: 3.316839, mean_absolute_error: 7.227441, mean_q: 13.632147\n",
      " 2425/5000: episode: 129, duration: 0.603s, episode steps: 33, steps per second: 55, episode reward: 33.000, mean reward: 1.000 [1.000, 1.000], mean action: 0.515 [0.000, 1.000], mean observation: -0.060 [-0.933, 0.566], loss: 3.396160, mean_absolute_error: 7.198685, mean_q: 13.518760\n",
      " 2486/5000: episode: 130, duration: 1.093s, episode steps: 61, steps per second: 56, episode reward: 61.000, mean reward: 1.000 [1.000, 1.000], mean action: 0.508 [0.000, 1.000], mean observation: 0.098 [-0.427, 1.072], loss: 3.499690, mean_absolute_error: 7.399657, mean_q: 13.877783\n",
      " 2521/5000: episode: 131, duration: 0.602s, episode steps: 35, steps per second: 58, episode reward: 35.000, mean reward: 1.000 [1.000, 1.000], mean action: 0.486 [0.000, 1.000], mean observation: -0.101 [-1.033, 0.210], loss: 3.253323, mean_absolute_error: 7.399616, mean_q: 13.921535\n",
      " 2569/5000: episode: 132, duration: 0.857s, episode steps: 48, steps per second: 56, episode reward: 48.000, mean reward: 1.000 [1.000, 1.000], mean action: 0.500 [0.000, 1.000], mean observation: -0.030 [-0.818, 0.410], loss: 2.606371, mean_absolute_error: 7.463181, mean_q: 14.254857\n",
      " 2621/5000: episode: 133, duration: 0.907s, episode steps: 52, steps per second: 57, episode reward: 52.000, mean reward: 1.000 [1.000, 1.000], mean action: 0.481 [0.000, 1.000], mean observation: -0.049 [-0.682, 0.423], loss: 2.614641, mean_absolute_error: 7.645675, mean_q: 14.605382\n",
      " 2663/5000: episode: 134, duration: 0.727s, episode steps: 42, steps per second: 58, episode reward: 42.000, mean reward: 1.000 [1.000, 1.000], mean action: 0.476 [0.000, 1.000], mean observation: -0.104 [-0.783, 0.630], loss: 3.152824, mean_absolute_error: 7.682728, mean_q: 14.568721\n",
      " 2690/5000: episode: 135, duration: 0.471s, episode steps: 27, steps per second: 57, episode reward: 27.000, mean reward: 1.000 [1.000, 1.000], mean action: 0.481 [0.000, 1.000], mean observation: -0.107 [-0.821, 0.190], loss: 4.072405, mean_absolute_error: 7.899617, mean_q: 15.005831\n",
      " 2743/5000: episode: 136, duration: 0.919s, episode steps: 53, steps per second: 58, episode reward: 53.000, mean reward: 1.000 [1.000, 1.000], mean action: 0.491 [0.000, 1.000], mean observation: -0.079 [-0.795, 0.349], loss: 3.436546, mean_absolute_error: 7.905026, mean_q: 14.963064\n",
      " 2780/5000: episode: 137, duration: 0.650s, episode steps: 37, steps per second: 57, episode reward: 37.000, mean reward: 1.000 [1.000, 1.000], mean action: 0.459 [0.000, 1.000], mean observation: -0.122 [-0.677, 0.397], loss: 3.550404, mean_absolute_error: 7.942717, mean_q: 15.013781\n",
      " 2820/5000: episode: 138, duration: 0.729s, episode steps: 40, steps per second: 55, episode reward: 40.000, mean reward: 1.000 [1.000, 1.000], mean action: 0.475 [0.000, 1.000], mean observation: -0.092 [-0.723, 0.224], loss: 3.957090, mean_absolute_error: 8.132443, mean_q: 15.365524\n",
      " 2862/5000: episode: 139, duration: 0.708s, episode steps: 42, steps per second: 59, episode reward: 42.000, mean reward: 1.000 [1.000, 1.000], mean action: 0.476 [0.000, 1.000], mean observation: -0.085 [-0.723, 0.345], loss: 3.167752, mean_absolute_error: 8.051466, mean_q: 15.348941\n",
      " 2888/5000: episode: 140, duration: 0.484s, episode steps: 26, steps per second: 54, episode reward: 26.000, mean reward: 1.000 [1.000, 1.000], mean action: 0.462 [0.000, 1.000], mean observation: -0.106 [-0.894, 0.407], loss: 3.872952, mean_absolute_error: 8.181602, mean_q: 15.560403\n",
      " 2925/5000: episode: 141, duration: 0.648s, episode steps: 37, steps per second: 57, episode reward: 37.000, mean reward: 1.000 [1.000, 1.000], mean action: 0.486 [0.000, 1.000], mean observation: -0.079 [-0.911, 0.371], loss: 4.682121, mean_absolute_error: 8.324391, mean_q: 15.637537\n",
      " 2951/5000: episode: 142, duration: 0.441s, episode steps: 26, steps per second: 59, episode reward: 26.000, mean reward: 1.000 [1.000, 1.000], mean action: 0.462 [0.000, 1.000], mean observation: -0.124 [-0.639, 0.193], loss: 4.130627, mean_absolute_error: 8.320726, mean_q: 15.765987\n",
      " 2995/5000: episode: 143, duration: 0.816s, episode steps: 44, steps per second: 54, episode reward: 44.000, mean reward: 1.000 [1.000, 1.000], mean action: 0.523 [0.000, 1.000], mean observation: 0.146 [-0.241, 0.914], loss: 4.090806, mean_absolute_error: 8.410587, mean_q: 15.928582\n",
      " 3045/5000: episode: 144, duration: 0.860s, episode steps: 50, steps per second: 58, episode reward: 50.000, mean reward: 1.000 [1.000, 1.000], mean action: 0.480 [0.000, 1.000], mean observation: -0.086 [-0.804, 0.197], loss: 3.979560, mean_absolute_error: 8.459611, mean_q: 16.110712\n",
      " 3121/5000: episode: 145, duration: 1.312s, episode steps: 76, steps per second: 58, episode reward: 76.000, mean reward: 1.000 [1.000, 1.000], mean action: 0.487 [0.000, 1.000], mean observation: -0.015 [-0.790, 0.421], loss: 3.306720, mean_absolute_error: 8.508243, mean_q: 16.298079\n",
      " 3146/5000: episode: 146, duration: 0.431s, episode steps: 25, steps per second: 58, episode reward: 25.000, mean reward: 1.000 [1.000, 1.000], mean action: 0.520 [0.000, 1.000], mean observation: -0.129 [-1.139, 0.211], loss: 4.762029, mean_absolute_error: 8.721258, mean_q: 16.539000\n",
      " 3177/5000: episode: 147, duration: 0.549s, episode steps: 31, steps per second: 56, episode reward: 31.000, mean reward: 1.000 [1.000, 1.000], mean action: 0.484 [0.000, 1.000], mean observation: -0.114 [-0.845, 0.174], loss: 3.045910, mean_absolute_error: 8.657219, mean_q: 16.666330\n",
      " 3221/5000: episode: 148, duration: 0.783s, episode steps: 44, steps per second: 56, episode reward: 44.000, mean reward: 1.000 [1.000, 1.000], mean action: 0.477 [0.000, 1.000], mean observation: -0.061 [-0.848, 0.587], loss: 4.231780, mean_absolute_error: 8.799727, mean_q: 16.838787\n",
      " 3247/5000: episode: 149, duration: 0.452s, episode steps: 26, steps per second: 58, episode reward: 26.000, mean reward: 1.000 [1.000, 1.000], mean action: 0.462 [0.000, 1.000], mean observation: -0.096 [-0.749, 0.213], loss: 4.141905, mean_absolute_error: 8.813112, mean_q: 16.781458\n",
      " 3280/5000: episode: 150, duration: 0.582s, episode steps: 33, steps per second: 57, episode reward: 33.000, mean reward: 1.000 [1.000, 1.000], mean action: 0.485 [0.000, 1.000], mean observation: -0.105 [-0.820, 0.209], loss: 4.720590, mean_absolute_error: 8.947348, mean_q: 17.008358\n",
      " 3318/5000: episode: 151, duration: 0.684s, episode steps: 38, steps per second: 56, episode reward: 38.000, mean reward: 1.000 [1.000, 1.000], mean action: 0.474 [0.000, 1.000], mean observation: -0.080 [-0.824, 0.402], loss: 3.741379, mean_absolute_error: 8.913339, mean_q: 17.038805\n",
      " 3363/5000: episode: 152, duration: 0.790s, episode steps: 45, steps per second: 57, episode reward: 45.000, mean reward: 1.000 [1.000, 1.000], mean action: 0.489 [0.000, 1.000], mean observation: -0.092 [-0.665, 0.343], loss: 3.729213, mean_absolute_error: 9.015373, mean_q: 17.296881\n",
      " 3409/5000: episode: 153, duration: 0.782s, episode steps: 46, steps per second: 59, episode reward: 46.000, mean reward: 1.000 [1.000, 1.000], mean action: 0.478 [0.000, 1.000], mean observation: -0.074 [-0.687, 0.338], loss: 4.056543, mean_absolute_error: 9.134741, mean_q: 17.484123\n",
      " 3446/5000: episode: 154, duration: 0.651s, episode steps: 37, steps per second: 57, episode reward: 37.000, mean reward: 1.000 [1.000, 1.000], mean action: 0.486 [0.000, 1.000], mean observation: -0.093 [-0.784, 0.180], loss: 3.963322, mean_absolute_error: 9.188862, mean_q: 17.556782\n",
      " 3504/5000: episode: 155, duration: 1.023s, episode steps: 58, steps per second: 57, episode reward: 58.000, mean reward: 1.000 [1.000, 1.000], mean action: 0.483 [0.000, 1.000], mean observation: -0.066 [-0.793, 0.295], loss: 4.011931, mean_absolute_error: 9.222879, mean_q: 17.662189\n",
      " 3532/5000: episode: 156, duration: 0.495s, episode steps: 28, steps per second: 57, episode reward: 28.000, mean reward: 1.000 [1.000, 1.000], mean action: 0.464 [0.000, 1.000], mean observation: -0.105 [-0.972, 0.379], loss: 3.431140, mean_absolute_error: 9.360041, mean_q: 18.119602\n",
      " 3586/5000: episode: 157, duration: 0.962s, episode steps: 54, steps per second: 56, episode reward: 54.000, mean reward: 1.000 [1.000, 1.000], mean action: 0.500 [0.000, 1.000], mean observation: -0.059 [-0.986, 0.368], loss: 3.791017, mean_absolute_error: 9.421141, mean_q: 18.082767\n",
      " 3628/5000: episode: 158, duration: 0.769s, episode steps: 42, steps per second: 55, episode reward: 42.000, mean reward: 1.000 [1.000, 1.000], mean action: 0.476 [0.000, 1.000], mean observation: -0.102 [-0.781, 0.222], loss: 3.965756, mean_absolute_error: 9.561899, mean_q: 18.379272\n",
      " 3680/5000: episode: 159, duration: 0.904s, episode steps: 52, steps per second: 58, episode reward: 52.000, mean reward: 1.000 [1.000, 1.000], mean action: 0.519 [0.000, 1.000], mean observation: 0.112 [-0.397, 0.814], loss: 3.790408, mean_absolute_error: 9.567903, mean_q: 18.460125\n",
      " 3723/5000: episode: 160, duration: 0.753s, episode steps: 43, steps per second: 57, episode reward: 43.000, mean reward: 1.000 [1.000, 1.000], mean action: 0.465 [0.000, 1.000], mean observation: -0.114 [-0.685, 0.285], loss: 4.780286, mean_absolute_error: 9.723596, mean_q: 18.525677\n",
      " 3773/5000: episode: 161, duration: 0.877s, episode steps: 50, steps per second: 57, episode reward: 50.000, mean reward: 1.000 [1.000, 1.000], mean action: 0.520 [0.000, 1.000], mean observation: 0.135 [-0.328, 1.117], loss: 3.508245, mean_absolute_error: 9.776057, mean_q: 18.875364\n",
      " 3930/5000: episode: 162, duration: 2.678s, episode steps: 157, steps per second: 59, episode reward: 157.000, mean reward: 1.000 [1.000, 1.000], mean action: 0.490 [0.000, 1.000], mean observation: 0.060 [-0.655, 0.595], loss: 5.067086, mean_absolute_error: 9.944859, mean_q: 19.017582\n",
      " 3959/5000: episode: 163, duration: 0.521s, episode steps: 29, steps per second: 56, episode reward: 29.000, mean reward: 1.000 [1.000, 1.000], mean action: 0.483 [0.000, 1.000], mean observation: -0.094 [-0.796, 0.350], loss: 4.508734, mean_absolute_error: 10.103031, mean_q: 19.454479\n",
      " 4029/5000: episode: 164, duration: 1.202s, episode steps: 70, steps per second: 58, episode reward: 70.000, mean reward: 1.000 [1.000, 1.000], mean action: 0.514 [0.000, 1.000], mean observation: 0.122 [-0.477, 0.841], loss: 4.291638, mean_absolute_error: 10.157699, mean_q: 19.491009\n",
      " 4065/5000: episode: 165, duration: 0.648s, episode steps: 36, steps per second: 56, episode reward: 36.000, mean reward: 1.000 [1.000, 1.000], mean action: 0.472 [0.000, 1.000], mean observation: -0.105 [-0.959, 0.364], loss: 4.629807, mean_absolute_error: 10.253185, mean_q: 19.680922\n",
      " 4129/5000: episode: 166, duration: 1.140s, episode steps: 64, steps per second: 56, episode reward: 64.000, mean reward: 1.000 [1.000, 1.000], mean action: 0.484 [0.000, 1.000], mean observation: -0.058 [-0.763, 0.531], loss: 3.932559, mean_absolute_error: 10.369074, mean_q: 19.983318\n",
      " 4177/5000: episode: 167, duration: 0.818s, episode steps: 48, steps per second: 59, episode reward: 48.000, mean reward: 1.000 [1.000, 1.000], mean action: 0.479 [0.000, 1.000], mean observation: -0.083 [-0.897, 0.598], loss: 4.493979, mean_absolute_error: 10.470814, mean_q: 20.188427\n",
      " 4230/5000: episode: 168, duration: 0.896s, episode steps: 53, steps per second: 59, episode reward: 53.000, mean reward: 1.000 [1.000, 1.000], mean action: 0.472 [0.000, 1.000], mean observation: -0.099 [-0.725, 0.241], loss: 4.108054, mean_absolute_error: 10.507540, mean_q: 20.271940\n",
      " 4266/5000: episode: 169, duration: 0.620s, episode steps: 36, steps per second: 58, episode reward: 36.000, mean reward: 1.000 [1.000, 1.000], mean action: 0.472 [0.000, 1.000], mean observation: -0.121 [-0.947, 0.208], loss: 4.574178, mean_absolute_error: 10.567624, mean_q: 20.366198\n",
      " 4318/5000: episode: 170, duration: 0.907s, episode steps: 52, steps per second: 57, episode reward: 52.000, mean reward: 1.000 [1.000, 1.000], mean action: 0.500 [0.000, 1.000], mean observation: -0.089 [-1.366, 0.323], loss: 4.568798, mean_absolute_error: 10.569397, mean_q: 20.362215\n",
      " 4364/5000: episode: 171, duration: 0.805s, episode steps: 46, steps per second: 57, episode reward: 46.000, mean reward: 1.000 [1.000, 1.000], mean action: 0.478 [0.000, 1.000], mean observation: -0.105 [-0.610, 0.240], loss: 4.499232, mean_absolute_error: 10.655131, mean_q: 20.617905\n",
      " 4411/5000: episode: 172, duration: 0.854s, episode steps: 47, steps per second: 55, episode reward: 47.000, mean reward: 1.000 [1.000, 1.000], mean action: 0.468 [0.000, 1.000], mean observation: -0.063 [-0.641, 0.431], loss: 4.778516, mean_absolute_error: 10.815836, mean_q: 20.831154\n",
      " 4442/5000: episode: 173, duration: 0.535s, episode steps: 31, steps per second: 58, episode reward: 31.000, mean reward: 1.000 [1.000, 1.000], mean action: 0.452 [0.000, 1.000], mean observation: -0.120 [-0.698, 0.439], loss: 7.002056, mean_absolute_error: 10.819410, mean_q: 20.526978\n",
      " 4489/5000: episode: 174, duration: 0.889s, episode steps: 47, steps per second: 53, episode reward: 47.000, mean reward: 1.000 [1.000, 1.000], mean action: 0.489 [0.000, 1.000], mean observation: -0.065 [-0.898, 0.354], loss: 5.361055, mean_absolute_error: 10.843661, mean_q: 20.815287\n",
      " 4529/5000: episode: 175, duration: 0.736s, episode steps: 40, steps per second: 54, episode reward: 40.000, mean reward: 1.000 [1.000, 1.000], mean action: 0.475 [0.000, 1.000], mean observation: -0.067 [-0.912, 0.613], loss: 5.118304, mean_absolute_error: 11.000093, mean_q: 21.182596\n",
      " 4557/5000: episode: 176, duration: 0.518s, episode steps: 28, steps per second: 54, episode reward: 28.000, mean reward: 1.000 [1.000, 1.000], mean action: 0.464 [0.000, 1.000], mean observation: -0.124 [-0.766, 0.193], loss: 6.572995, mean_absolute_error: 10.986326, mean_q: 20.949203\n",
      " 4594/5000: episode: 177, duration: 0.660s, episode steps: 37, steps per second: 56, episode reward: 37.000, mean reward: 1.000 [1.000, 1.000], mean action: 0.459 [0.000, 1.000], mean observation: -0.090 [-0.784, 0.234], loss: 6.125282, mean_absolute_error: 10.973624, mean_q: 20.952518\n",
      " 4656/5000: episode: 178, duration: 1.075s, episode steps: 62, steps per second: 58, episode reward: 62.000, mean reward: 1.000 [1.000, 1.000], mean action: 0.484 [0.000, 1.000], mean observation: -0.056 [-0.658, 0.377], loss: 4.366004, mean_absolute_error: 11.014593, mean_q: 21.342655\n",
      " 4749/5000: episode: 179, duration: 1.627s, episode steps: 93, steps per second: 57, episode reward: 93.000, mean reward: 1.000 [1.000, 1.000], mean action: 0.484 [0.000, 1.000], mean observation: -0.032 [-0.680, 0.381], loss: 4.873149, mean_absolute_error: 11.138819, mean_q: 21.525400\n",
      " 4779/5000: episode: 180, duration: 0.704s, episode steps: 30, steps per second: 43, episode reward: 30.000, mean reward: 1.000 [1.000, 1.000], mean action: 0.467 [0.000, 1.000], mean observation: -0.119 [-0.687, 0.223], loss: 4.126451, mean_absolute_error: 11.162424, mean_q: 21.700720\n",
      " 4834/5000: episode: 181, duration: 1.075s, episode steps: 55, steps per second: 51, episode reward: 55.000, mean reward: 1.000 [1.000, 1.000], mean action: 0.491 [0.000, 1.000], mean observation: -0.107 [-1.091, 0.226], loss: 4.636402, mean_absolute_error: 11.308687, mean_q: 21.908669\n",
      " 4877/5000: episode: 182, duration: 0.771s, episode steps: 43, steps per second: 56, episode reward: 43.000, mean reward: 1.000 [1.000, 1.000], mean action: 0.465 [0.000, 1.000], mean observation: -0.127 [-0.611, 0.167], loss: 5.288575, mean_absolute_error: 11.449626, mean_q: 22.113850\n",
      " 4915/5000: episode: 183, duration: 0.670s, episode steps: 38, steps per second: 57, episode reward: 38.000, mean reward: 1.000 [1.000, 1.000], mean action: 0.474 [0.000, 1.000], mean observation: -0.122 [-0.654, 0.297], loss: 5.025884, mean_absolute_error: 11.325595, mean_q: 21.822832\n",
      " 4952/5000: episode: 184, duration: 0.652s, episode steps: 37, steps per second: 57, episode reward: 37.000, mean reward: 1.000 [1.000, 1.000], mean action: 0.459 [0.000, 1.000], mean observation: -0.151 [-0.779, 0.164], loss: 4.318738, mean_absolute_error: 11.439820, mean_q: 22.160065\n",
      "done, took 92.423 seconds\n"
     ]
    },
    {
     "data": {
      "text/plain": [
       "<keras.callbacks.History at 0x1531060d358>"
      ]
     },
     "execution_count": 4,
     "metadata": {},
     "output_type": "execute_result"
    }
   ],
   "source": [
    "policy = EpsGreedyQPolicy()\n",
    "memory = SequentialMemory(limit=50000, window_length=1)\n",
    "dqn = DQNAgent(model=model, nb_actions=nb_actions, memory=memory, nb_steps_warmup=10,\n",
    "target_model_update=1e-2, policy=policy)\n",
    "dqn.compile(Adam(lr=1e-3), metrics=['mae'])\n",
    "\n",
    "# Okay, now it's time to learn something! We visualize the training here for show, but this slows down training quite a lot. \n",
    "dqn.fit(env, nb_steps=5000, visualize=True, verbose=2)"
   ]
  },
  {
   "cell_type": "code",
   "execution_count": 5,
   "metadata": {},
   "outputs": [
    {
     "name": "stdout",
     "output_type": "stream",
     "text": [
      "Testing for 50 episodes ...\n",
      "Episode 1: reward: 71.000, steps: 71\n",
      "Episode 2: reward: 36.000, steps: 36\n",
      "Episode 3: reward: 52.000, steps: 52\n",
      "Episode 4: reward: 103.000, steps: 103\n",
      "Episode 5: reward: 48.000, steps: 48\n",
      "Episode 6: reward: 66.000, steps: 66\n",
      "Episode 7: reward: 44.000, steps: 44\n",
      "Episode 8: reward: 37.000, steps: 37\n",
      "Episode 9: reward: 41.000, steps: 41\n",
      "Episode 10: reward: 39.000, steps: 39\n",
      "Episode 11: reward: 71.000, steps: 71\n",
      "Episode 12: reward: 52.000, steps: 52\n",
      "Episode 13: reward: 58.000, steps: 58\n",
      "Episode 14: reward: 79.000, steps: 79\n",
      "Episode 15: reward: 45.000, steps: 45\n",
      "Episode 16: reward: 140.000, steps: 140\n",
      "Episode 17: reward: 52.000, steps: 52\n",
      "Episode 18: reward: 57.000, steps: 57\n",
      "Episode 19: reward: 55.000, steps: 55\n",
      "Episode 20: reward: 104.000, steps: 104\n",
      "Episode 21: reward: 79.000, steps: 79\n",
      "Episode 22: reward: 59.000, steps: 59\n",
      "Episode 23: reward: 41.000, steps: 41\n",
      "Episode 24: reward: 47.000, steps: 47\n",
      "Episode 25: reward: 175.000, steps: 175\n",
      "Episode 26: reward: 45.000, steps: 45\n",
      "Episode 27: reward: 79.000, steps: 79\n",
      "Episode 28: reward: 46.000, steps: 46\n",
      "Episode 29: reward: 69.000, steps: 69\n",
      "Episode 30: reward: 46.000, steps: 46\n",
      "Episode 31: reward: 86.000, steps: 86\n",
      "Episode 32: reward: 49.000, steps: 49\n",
      "Episode 33: reward: 37.000, steps: 37\n",
      "Episode 34: reward: 39.000, steps: 39\n",
      "Episode 35: reward: 45.000, steps: 45\n",
      "Episode 36: reward: 60.000, steps: 60\n",
      "Episode 37: reward: 49.000, steps: 49\n",
      "Episode 38: reward: 53.000, steps: 53\n",
      "Episode 39: reward: 47.000, steps: 47\n",
      "Episode 40: reward: 37.000, steps: 37\n",
      "Episode 41: reward: 79.000, steps: 79\n",
      "Episode 42: reward: 36.000, steps: 36\n",
      "Episode 43: reward: 43.000, steps: 43\n",
      "Episode 44: reward: 42.000, steps: 42\n",
      "Episode 45: reward: 34.000, steps: 34\n",
      "Episode 46: reward: 33.000, steps: 33\n",
      "Episode 47: reward: 62.000, steps: 62\n",
      "Episode 48: reward: 32.000, steps: 32\n",
      "Episode 49: reward: 99.000, steps: 99\n",
      "Episode 50: reward: 42.000, steps: 42\n"
     ]
    },
    {
     "data": {
      "text/plain": [
       "<keras.callbacks.History at 0x15310352518>"
      ]
     },
     "execution_count": 5,
     "metadata": {},
     "output_type": "execute_result"
    }
   ],
   "source": [
    "dqn.test(env, nb_episodes=50, visualize=True)"
   ]
  },
  {
   "cell_type": "code",
   "execution_count": 1,
   "metadata": {},
   "outputs": [
    {
     "ename": "NameError",
     "evalue": "name 'dqn' is not defined",
     "output_type": "error",
     "traceback": [
      "\u001b[1;31m---------------------------------------------------------------------------\u001b[0m",
      "\u001b[1;31mNameError\u001b[0m                                 Traceback (most recent call last)",
      "\u001b[1;32m<ipython-input-1-a752a16962fe>\u001b[0m in \u001b[0;36m<module>\u001b[1;34m\u001b[0m\n\u001b[1;32m----> 1\u001b[1;33m \u001b[0mdqn\u001b[0m\u001b[1;33m.\u001b[0m\u001b[0mtest\u001b[0m\u001b[1;33m(\u001b[0m\u001b[0menv\u001b[0m\u001b[1;33m,\u001b[0m \u001b[0mnb_episodes\u001b[0m\u001b[1;33m=\u001b[0m\u001b[1;36m5\u001b[0m\u001b[1;33m,\u001b[0m \u001b[0mvisualize\u001b[0m\u001b[1;33m=\u001b[0m\u001b[1;32mTrue\u001b[0m\u001b[1;33m)\u001b[0m\u001b[1;33m\u001b[0m\u001b[1;33m\u001b[0m\u001b[0m\n\u001b[0m",
      "\u001b[1;31mNameError\u001b[0m: name 'dqn' is not defined"
     ]
    }
   ],
   "source": [
    "dqn.test(env, nb_episodes=5, visualize=True)"
   ]
  },
  {
   "cell_type": "code",
   "execution_count": null,
   "metadata": {},
   "outputs": [],
   "source": []
  }
 ],
 "metadata": {
  "kernelspec": {
   "display_name": "Python 3.6 (tensorflow)",
   "language": "python",
   "name": "tensorflow"
  },
  "language_info": {
   "codemirror_mode": {
    "name": "ipython",
    "version": 3
   },
   "file_extension": ".py",
   "mimetype": "text/x-python",
   "name": "python",
   "nbconvert_exporter": "python",
   "pygments_lexer": "ipython3",
   "version": "3.6.7"
  }
 },
 "nbformat": 4,
 "nbformat_minor": 2
}
